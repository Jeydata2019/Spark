{
 "cells": [
  {
   "cell_type": "code",
   "execution_count": 1,
   "id": "fa7da647",
   "metadata": {},
   "outputs": [
    {
     "name": "stderr",
     "output_type": "stream",
     "text": [
      "24/06/15 07:01:40 WARN Utils: Your hostname, Jeys-MacBook-Pro.local resolves to a loopback address: 127.0.0.1; using 10.0.0.178 instead (on interface en0)\n",
      "24/06/15 07:01:40 WARN Utils: Set SPARK_LOCAL_IP if you need to bind to another address\n",
      "Setting default log level to \"WARN\".\n",
      "To adjust logging level use sc.setLogLevel(newLevel). For SparkR, use setLogLevel(newLevel).\n",
      "24/06/15 07:01:40 WARN NativeCodeLoader: Unable to load native-hadoop library for your platform... using builtin-java classes where applicable\n",
      "                                                                                \r"
     ]
    },
    {
     "name": "stdout",
     "output_type": "stream",
     "text": [
      "Hello: 2\n",
      "world: 1\n",
      "Spark: 2\n",
      "is: 1\n",
      "fast: 1\n"
     ]
    }
   ],
   "source": [
    "from pyspark import SparkContext, SparkConf\n",
    "\n",
    "# Set up Spark configuration and context\n",
    "conf = SparkConf().setAppName(\"WordCountExample\").setMaster(\"local\")\n",
    "sc = SparkContext(conf=conf)\n",
    "\n",
    "# Load the text file\n",
    "text_file = sc.textFile(\"example_text.txt\")\n",
    "\n",
    "# Perform word count\n",
    "words = text_file.flatMap(lambda line: line.split())\n",
    "word_pairs = words.map(lambda word: (word, 1))\n",
    "word_counts = word_pairs.reduceByKey(lambda a, b: a + b)\n",
    "\n",
    "# Collect and print the results\n",
    "for word, count in word_counts.collect():\n",
    "    print(f\"{word}: {count}\")\n",
    "\n",
    "# Stop the Spark context\n",
    "sc.stop()\n"
   ]
  },
  {
   "cell_type": "code",
   "execution_count": null,
   "id": "a7c2e904",
   "metadata": {},
   "outputs": [],
   "source": []
  }
 ],
 "metadata": {
  "kernelspec": {
   "display_name": "Python 3 (ipykernel)",
   "language": "python",
   "name": "python3"
  },
  "language_info": {
   "codemirror_mode": {
    "name": "ipython",
    "version": 3
   },
   "file_extension": ".py",
   "mimetype": "text/x-python",
   "name": "python",
   "nbconvert_exporter": "python",
   "pygments_lexer": "ipython3",
   "version": "3.9.12"
  }
 },
 "nbformat": 4,
 "nbformat_minor": 5
}
