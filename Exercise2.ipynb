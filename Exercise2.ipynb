{
 "cells": [
  {
   "cell_type": "code",
   "execution_count": 1,
   "id": "4fea2228",
   "metadata": {},
   "outputs": [
    {
     "name": "stderr",
     "output_type": "stream",
     "text": [
      "24/06/15 07:05:31 WARN Utils: Your hostname, Jeys-MacBook-Pro.local resolves to a loopback address: 127.0.0.1; using 10.0.0.178 instead (on interface en0)\n",
      "24/06/15 07:05:31 WARN Utils: Set SPARK_LOCAL_IP if you need to bind to another address\n",
      "Setting default log level to \"WARN\".\n",
      "To adjust logging level use sc.setLogLevel(newLevel). For SparkR, use setLogLevel(newLevel).\n",
      "24/06/15 07:05:31 WARN NativeCodeLoader: Unable to load native-hadoop library for your platform... using builtin-java classes where applicable\n",
      "                                                                                \r"
     ]
    },
    {
     "name": "stdout",
     "output_type": "stream",
     "text": [
      "/index.html: 2\n",
      "/contact.html: 1\n"
     ]
    }
   ],
   "source": [
    "from pyspark import SparkContext, SparkConf\n",
    "import re\n",
    "\n",
    "# Set up Spark configuration and context\n",
    "conf = SparkConf().setAppName(\"LogFileAnalysis\").setMaster(\"local\")\n",
    "sc = SparkContext(conf=conf)\n",
    "\n",
    "# Regular expression to extract the URL from the log line\n",
    "log_pattern = re.compile(r'GET\\s+(\\S+)\\s+HTTP/1.1')\n",
    "\n",
    "# Function to extract URL\n",
    "def extract_url(line):\n",
    "    match = log_pattern.search(line)\n",
    "    if match:\n",
    "        return match.group(1)\n",
    "    return None\n",
    "\n",
    "# Load the log file\n",
    "log_file = sc.textFile(\"web_log.txt\")\n",
    "\n",
    "# Extract URLs and count hits\n",
    "urls = log_file.map(extract_url).filter(lambda url: url is not None)\n",
    "url_pairs = urls.map(lambda url: (url, 1))\n",
    "url_counts = url_pairs.reduceByKey(lambda a, b: a + b)\n",
    "\n",
    "# Collect and print the results\n",
    "for url, count in url_counts.collect():\n",
    "    print(f\"{url}: {count}\")\n",
    "\n",
    "# Stop the Spark context\n",
    "sc.stop()\n"
   ]
  },
  {
   "cell_type": "code",
   "execution_count": null,
   "id": "09a21b6d",
   "metadata": {},
   "outputs": [],
   "source": []
  }
 ],
 "metadata": {
  "kernelspec": {
   "display_name": "Python 3 (ipykernel)",
   "language": "python",
   "name": "python3"
  },
  "language_info": {
   "codemirror_mode": {
    "name": "ipython",
    "version": 3
   },
   "file_extension": ".py",
   "mimetype": "text/x-python",
   "name": "python",
   "nbconvert_exporter": "python",
   "pygments_lexer": "ipython3",
   "version": "3.9.12"
  }
 },
 "nbformat": 4,
 "nbformat_minor": 5
}
